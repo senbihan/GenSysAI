{
 "cells": [
  {
   "cell_type": "code",
   "execution_count": 1,
   "id": "53854b07",
   "metadata": {},
   "outputs": [],
   "source": [
    "from langchain.llms import OpenAI\n",
    "from langchain.chat_models import ChatOpenAI\n",
    "from langchain import PromptTemplate, LLMChain"
   ]
  },
  {
   "cell_type": "code",
   "execution_count": 2,
   "id": "ce84aae8",
   "metadata": {},
   "outputs": [
    {
     "name": "stdout",
     "output_type": "stream",
     "text": [
      "········\n"
     ]
    }
   ],
   "source": [
    "from getpass import getpass\n",
    "OPENAI_API_KEY = getpass()"
   ]
  },
  {
   "cell_type": "code",
   "execution_count": 3,
   "id": "6ad3fb05",
   "metadata": {},
   "outputs": [],
   "source": [
    "import os\n",
    "os.environ[\"OPENAI_API_KEY\"] = OPENAI_API_KEY"
   ]
  },
  {
   "cell_type": "code",
   "execution_count": 8,
   "id": "e212f523",
   "metadata": {},
   "outputs": [],
   "source": [
    "template = \"\"\"Tell me a very short {speech} with 2 sentences.\"\"\"\n",
    "prompt = PromptTemplate(template=template, input_variables=[\"speech\"])"
   ]
  },
  {
   "cell_type": "code",
   "execution_count": 9,
   "id": "44bccd67",
   "metadata": {},
   "outputs": [],
   "source": [
    "llm = OpenAI()\n",
    "llm_chain = LLMChain(prompt=prompt, llm=llm, verbose=True)"
   ]
  },
  {
   "cell_type": "code",
   "execution_count": 10,
   "id": "f96d195c",
   "metadata": {},
   "outputs": [
    {
     "name": "stdout",
     "output_type": "stream",
     "text": [
      "\n",
      "\n",
      "\u001b[1m> Entering new LLMChain chain...\u001b[0m\n",
      "Prompt after formatting:\n",
      "\u001b[32;1m\u001b[1;3mTell me a very short joke with 2 sentences.\u001b[0m\n",
      "\n",
      "\u001b[1m> Finished chain.\u001b[0m\n"
     ]
    }
   ],
   "source": [
    "speech = \"joke\"\n",
    "output = llm_chain.run(speech)"
   ]
  },
  {
   "cell_type": "code",
   "execution_count": 11,
   "id": "1f974024",
   "metadata": {},
   "outputs": [
    {
     "name": "stdout",
     "output_type": "stream",
     "text": [
      "\n",
      "\n",
      "Q: Why don't scientists trust atoms?\n",
      "A: Because they make up everything!\n"
     ]
    }
   ],
   "source": [
    "print(output)"
   ]
  },
  {
   "cell_type": "code",
   "execution_count": 249,
   "id": "830a4164",
   "metadata": {},
   "outputs": [],
   "source": [
    "llm = ChatOpenAI(temperature=0.1, max_tokens= 512, model_name='gpt-3.5-turbo')"
   ]
  },
  {
   "cell_type": "markdown",
   "id": "289abd94",
   "metadata": {},
   "source": [
    "## Step 1 : Identify Functional Requirements"
   ]
  },
  {
   "cell_type": "code",
   "execution_count": 97,
   "id": "f527f7d3",
   "metadata": {},
   "outputs": [],
   "source": [
    "prompt_template = '''You are an expert in distributed system. \n",
    "The scope of your task will be to identify functional requirements from a given system design problem statement.\n",
    "On response you should list down the functional requirements as you understand.\n",
    "\n",
    "## Example:\n",
    "Problem Statement : Design a Chat Application like WhatsApp, where an user can send or receive message, create a group with more than 2 people, gets notification when a new message is received.\n",
    "\n",
    "## Sample Output:\n",
    "1. Messaging functionality - allow users to send and receive messages through the chat application.\n",
    "2. Group creation functionality - enable users to create groups within the application, which they can join to communicate with other members.\n",
    "3. Notification functionality - notify users when someone sends them a new message, or when a new member joins their group.\n",
    "\n",
    "{problem_statement}\n",
    "'''\n",
    "prompt_fr = PromptTemplate(template=prompt_template, input_variables=[\"problem_statement\"])"
   ]
  },
  {
   "cell_type": "code",
   "execution_count": 98,
   "id": "e2b0e2aa",
   "metadata": {},
   "outputs": [],
   "source": [
    "llm_chain_fr = LLMChain(prompt=prompt_fr, llm=llm, verbose=True)"
   ]
  },
  {
   "cell_type": "code",
   "execution_count": 86,
   "id": "b59f2369",
   "metadata": {},
   "outputs": [
    {
     "name": "stdout",
     "output_type": "stream",
     "text": [
      "\n",
      "\n",
      "\u001b[1m> Entering new LLMChain chain...\u001b[0m\n",
      "Prompt after formatting:\n",
      "\u001b[32;1m\u001b[1;3mYou are an expert in distributed system. \n",
      "The scope of your task will be to identify functional requirements from a given system design problem statement.\n",
      "On response you should list down the functional requirements as you understand.\n",
      "\n",
      "## Example:\n",
      "Problem Statement : Design a Chat Application like WhatsApp, where an user can send or receive message, create a group with more than 2 people, gets notification when a new message is received.\n",
      "\n",
      "## Sample Output:\n",
      "1. Messaging functionality - allow users to send and receive messages through the chat application.\n",
      "2. Group creation functionality - enable users to create groups within the application, which they can join to communicate with other members.\n",
      "3. Notification functionality - notify users when someone sends them a new message, or when a new member joins their group.\n",
      "\n",
      "Design a photo sharing application like instagram, \n",
      "where users can post photoes or vides, follow other users, browse throught the photo, video posted by the following users, add comments on those posts.\n",
      "\n",
      "\u001b[0m\n"
     ]
    },
    {
     "name": "stderr",
     "output_type": "stream",
     "text": [
      "Retrying langchain.chat_models.openai.ChatOpenAI.completion_with_retry.<locals>._completion_with_retry in 1.0 seconds as it raised APIConnectionError: Error communicating with OpenAI: ('Connection aborted.', RemoteDisconnected('Remote end closed connection without response')).\n"
     ]
    },
    {
     "name": "stdout",
     "output_type": "stream",
     "text": [
      "\n",
      "\u001b[1m> Finished chain.\u001b[0m\n",
      "1. Photo and video sharing functionality - allow users to upload and share photos and videos within the application.\n",
      "2. Following functionality - enable users to follow other users and view their posts in a personalized feed.\n",
      "3. Browsing functionality - allow users to browse through posts made by the users they follow.\n",
      "4. Commenting functionality - enable users to add comments on posts made by other users.\n",
      "5. User profile functionality - allow users to create and manage their own profile, including their posts and followers.\n"
     ]
    }
   ],
   "source": [
    "problem_statement = '''Design a photo sharing application like instagram, \n",
    "where users can post photoes or vides, follow other users, browse throught the photo, video posted by the following users, add comments on those posts.\n",
    "'''\n",
    "output = llm_chain_fr.run(problem_statement = problem_statement)\n",
    "print(output)"
   ]
  },
  {
   "cell_type": "markdown",
   "id": "37592fa3",
   "metadata": {},
   "source": [
    "## Step 2 : Identify Components from Problem Statement and Functional Requirements"
   ]
  },
  {
   "cell_type": "code",
   "execution_count": 11,
   "id": "eb31b677",
   "metadata": {},
   "outputs": [],
   "source": [
    "def custom_json_escape(json_str):\n",
    "    json_str = json_str.replace('{', '{{')\n",
    "    json_str = json_str.replace('}', '}}')\n",
    "    return json_str\n",
    "\n",
    "json_output_schema = custom_json_escape('{{\"$schema\": \"http://json-schema.org/draft-04/schema#\", \"type\": \"array\", \"items\": [{ \"type\": \"object\", \"properties\": { \"name\": { \"type\": \"string\", \"description\" : \"The component name that satsfies a purpose in the system\" }, \"description\": { \"type\": \"string\", \"description\" : \"A brief description about the component and its responsibilities and how it solves one or more functional requirement\" }, \"component_type\": { \"type\": \"string\", \"description\" : \"Whether the component is a service or storage or Cache or others like load balancer\" } }, \"required\": [\"component\", \"description\", \"type\"]}]}}')"
   ]
  },
  {
   "cell_type": "code",
   "execution_count": 12,
   "id": "1e344365",
   "metadata": {},
   "outputs": [],
   "source": [
    "prompt_template_component = '''\n",
    "You are an assistant to design a distributed System. \n",
    "Given a list of functional requirements, you have to provide **high level Components** of the system under design.\n",
    "1. Each component should be either of the types - Storage, Service, Cache, Load balancer etc. \n",
    "2. The Service components should be independent and mutually exclusive of responsibilities.\n",
    "3. The database component should be present and the requirements should be stated clearly.\n",
    "Output format should a valid JSON that validates following schema -\n",
    "{json_output_schema}\n",
    "\n",
    "{func_requirement}\n",
    "'''\n",
    "prompt_component = PromptTemplate(template=prompt_template_component, \n",
    "                        input_variables=[\"json_output_schema\",\"func_requirement\"])"
   ]
  },
  {
   "cell_type": "code",
   "execution_count": 13,
   "id": "90145b46",
   "metadata": {},
   "outputs": [],
   "source": [
    "llm_chain_comp = LLMChain(prompt=prompt_component, llm=llm, verbose=True)"
   ]
  },
  {
   "cell_type": "code",
   "execution_count": 102,
   "id": "9415fd03",
   "metadata": {},
   "outputs": [
    {
     "name": "stdout",
     "output_type": "stream",
     "text": [
      "\n",
      "\n",
      "\u001b[1m> Entering new LLMChain chain...\u001b[0m\n",
      "Prompt after formatting:\n",
      "\u001b[32;1m\u001b[1;3m\n",
      "You are an assistant to design a distributed System. \n",
      "Given a list of functional requirements, you have to provide **high level Components** of the system under design.\n",
      "1. Each component should be either of the types - Storage, Service, Cache, Load balancer etc. \n",
      "2. The Service components should be independent and mutually exclusive of responsibilities.\n",
      "3. The database component should be present and the requirements should be stated clearly.\n",
      "Output format should a valid JSON that validates following schema -\n",
      "{{{{\"$schema\": \"http://json-schema.org/draft-04/schema#\", \"type\": \"array\", \"items\": [{{ \"type\": \"object\", \"properties\": {{ \"name\": {{ \"type\": \"string\", \"description\" : \"The component name that satsfies a purpose in the system\" }}, \"description\": {{ \"type\": \"string\", \"description\" : \"A brief description about the component and its responsibilities and how it solves one or more functional requirement\" }}, \"component_type\": {{ \"type\": \"string\", \"description\" : \"Whether the component is a service or storage or Cache or others like load balancer\" }} }}, \"required\": [\"component\", \"description\", \"type\"]}}]}}}}\n",
      "\n",
      "1. Posting functionality - allow users to post photos and videos to their profile.\n",
      "2. Follow/unfollow functionality - allow users to follow/unfollow other users, and view their posts in their feed.\n",
      "3. Browsing functionality - allow users to browse through photos and videos posted by the users they follow.\n",
      "4. Commenting functionality - allow users to add comments on posts they view.\n",
      "\u001b[0m\n",
      "\n",
      "\u001b[1m> Finished chain.\u001b[0m\n",
      "[\n",
      "  {\n",
      "    \"name\": \"User Service\",\n",
      "    \"description\": \"Responsible for user authentication, registration, and management.\",\n",
      "    \"component_type\": \"Service\"\n",
      "  },\n",
      "  {\n",
      "    \"name\": \"Post Service\",\n",
      "    \"description\": \"Responsible for handling post creation, deletion, and retrieval.\",\n",
      "    \"component_type\": \"Service\"\n",
      "  },\n",
      "  {\n",
      "    \"name\": \"Follow Service\",\n",
      "    \"description\": \"Responsible for managing user follow/unfollow functionality.\",\n",
      "    \"component_type\": \"Service\"\n",
      "  },\n",
      "  {\n",
      "    \"name\": \"Feed Service\",\n",
      "    \"description\": \"Responsible for generating personalized feeds for each user based on their followings.\",\n",
      "    \"component_type\": \"Service\"\n",
      "  },\n",
      "  {\n",
      "    \"name\": \"Media Storage\",\n",
      "    \"description\": \"Responsible for storing and retrieving photos and videos uploaded by users.\",\n",
      "    \"component_type\": \"Storage\"\n",
      "  },\n",
      "  {\n",
      "    \"name\": \"Comment Service\",\n",
      "    \"description\": \"Responsible for managing comments on posts.\",\n",
      "    \"component_type\": \"Service\"\n",
      "  },\n",
      "  {\n",
      "    \"name\": \"Cache\",\n",
      "    \"description\": \"Responsible for caching frequently accessed data to improve system performance.\",\n",
      "    \"component_type\": \"Cache\"\n",
      "  },\n",
      "  {\n",
      "    \"name\": \"Load Balancer\",\n",
      "    \"description\": \"Responsible for distributing incoming requests across multiple servers to improve system scalability and availability.\",\n",
      "    \"component_type\": \"Load balancer\"\n",
      "  },\n",
      "  {\n",
      "    \"name\": \"Database\",\n",
      "    \"description\": \"Responsible for storing user data, post data, and comment data.\",\n",
      "    \"component_type\": \"Storage\"\n",
      "  }\n",
      "]\n"
     ]
    }
   ],
   "source": [
    "\n",
    "func_requirement = '''1. Posting functionality - allow users to post photos and videos to their profile.\n",
    "2. Follow/unfollow functionality - allow users to follow/unfollow other users, and view their posts in their feed.\n",
    "3. Browsing functionality - allow users to browse through photos and videos posted by the users they follow.\n",
    "4. Commenting functionality - allow users to add comments on posts they view.'''\n",
    "\n",
    "output = llm_chain_comp.run(\n",
    "    json_output_schema = json_output_schema,\n",
    "    func_requirement = func_requirement\n",
    ")\n",
    "print(output)"
   ]
  },
  {
   "cell_type": "code",
   "execution_count": 14,
   "id": "cee4d5f9",
   "metadata": {},
   "outputs": [],
   "source": [
    "prompt_template_component_2 = '''\n",
    "You are an assistant to design a distributed System. \n",
    "Given a list of functional requirements, you have to provide **high level Components** of the system under design.\n",
    "1. Each component should be either of the types - Storage, Service, Cache, Load balancer etc. \n",
    "2. The Service components should be independent and mutually exclusive of responsibilities.\n",
    "3. The database component should be present and the requirements should be stated clearly.\n",
    "Output format should a valid JSON that validates following schema -\n",
    "{{{{\"$schema\": \"http://json-schema.org/draft-04/schema#\", \"type\": \"array\", \"items\": [{{ \"type\": \"object\", \"properties\": {{ \"name\": {{ \"type\": \"string\", \"description\" : \"The component name that satsfies a purpose in the system\" }}, \"description\": {{ \"type\": \"string\", \"description\" : \"A brief description about the component and its responsibilities and how it solves one or more functional requirement\" }}, \"component_type\": {{ \"type\": \"string\", \"description\" : \"Whether the component is a service or storage or Cache or others like load balancer\" }} }}, \"required\": [\"component\", \"description\", \"type\"]}}]}}}}\n",
    "\n",
    "{problem_statement}\n",
    "'''\n",
    "prompt_component_2 = PromptTemplate(template=prompt_template_component_2, \n",
    "                        input_variables=[\"problem_statement\"])"
   ]
  },
  {
   "cell_type": "code",
   "execution_count": 15,
   "id": "1d864d43",
   "metadata": {},
   "outputs": [],
   "source": [
    "llm_chain_comp2 = LLMChain(prompt=prompt_component_2, llm=llm, verbose=True)"
   ]
  },
  {
   "cell_type": "code",
   "execution_count": 158,
   "id": "511270c0",
   "metadata": {},
   "outputs": [],
   "source": [
    "from langchain.chains import SimpleSequentialChain, SequentialChain"
   ]
  },
  {
   "cell_type": "code",
   "execution_count": 106,
   "id": "990843c2",
   "metadata": {},
   "outputs": [
    {
     "name": "stdout",
     "output_type": "stream",
     "text": [
      "\n",
      "\n",
      "\u001b[1m> Entering new SimpleSequentialChain chain...\u001b[0m\n",
      "\n",
      "\n",
      "\u001b[1m> Entering new LLMChain chain...\u001b[0m\n",
      "Prompt after formatting:\n",
      "\u001b[32;1m\u001b[1;3mYou are an expert in distributed system. \n",
      "The scope of your task will be to identify functional requirements from a given system design problem statement.\n",
      "On response you should list down the functional requirements as you understand.\n",
      "\n",
      "## Example:\n",
      "Problem Statement : Design a Chat Application like WhatsApp, where an user can send or receive message, create a group with more than 2 people, gets notification when a new message is received.\n",
      "\n",
      "## Sample Output:\n",
      "1. Messaging functionality - allow users to send and receive messages through the chat application.\n",
      "2. Group creation functionality - enable users to create groups within the application, which they can join to communicate with other members.\n",
      "3. Notification functionality - notify users when someone sends them a new message, or when a new member joins their group.\n",
      "\n",
      "Design a photo sharing application like instagram, \n",
      "where users can post photoes or vides, follow other users, browse throught the photo, video posted by the following users, add comments on those posts.\n",
      "\n",
      "\u001b[0m\n",
      "\n",
      "\u001b[1m> Finished chain.\u001b[0m\n",
      "\u001b[36;1m\u001b[1;3m1. Photo and video sharing functionality - allow users to upload and share photos and videos within the application.\n",
      "2. Follow functionality - enable users to follow other users within the application, so that they can see their posts in their feed.\n",
      "3. Browsing functionality - allow users to browse through the posts of the users they follow, in order to view their photos and videos.\n",
      "4. Commenting functionality - enable users to add comments on the posts of other users, in order to interact with them and provide feedback.\u001b[0m\n",
      "\n",
      "\n",
      "\u001b[1m> Entering new LLMChain chain...\u001b[0m\n",
      "Prompt after formatting:\n",
      "\u001b[32;1m\u001b[1;3m\n",
      "You are an assistant to design a distributed System. \n",
      "Given a list of functional requirements, you have to provide **high level Components** of the system under design.\n",
      "1. Each component should be either of the types - Storage, Service, Cache, Load balancer etc. \n",
      "2. The Service components should be independent and mutually exclusive of responsibilities.\n",
      "3. The database component should be present and the requirements should be stated clearly.\n",
      "Output format should a valid JSON that validates following schema -\n",
      "{{\"$schema\": \"http://json-schema.org/draft-04/schema#\", \"type\": \"array\", \"items\": [{ \"type\": \"object\", \"properties\": { \"name\": { \"type\": \"string\", \"description\" : \"The component name that satsfies a purpose in the system\" }, \"description\": { \"type\": \"string\", \"description\" : \"A brief description about the component and its responsibilities and how it solves one or more functional requirement\" }, \"component_type\": { \"type\": \"string\", \"description\" : \"Whether the component is a service or storage or Cache or others like load balancer\" } }, \"required\": [\"component\", \"description\", \"type\"]}]}}\n",
      "\n",
      "1. Photo and video sharing functionality - allow users to upload and share photos and videos within the application.\n",
      "2. Follow functionality - enable users to follow other users within the application, so that they can see their posts in their feed.\n",
      "3. Browsing functionality - allow users to browse through the posts of the users they follow, in order to view their photos and videos.\n",
      "4. Commenting functionality - enable users to add comments on the posts of other users, in order to interact with them and provide feedback.\n",
      "\u001b[0m\n",
      "\n",
      "\u001b[1m> Finished chain.\u001b[0m\n",
      "\u001b[33;1m\u001b[1;3m[\n",
      "  {\n",
      "    \"name\": \"User Service\",\n",
      "    \"description\": \"Responsible for user authentication, registration, and management.\",\n",
      "    \"component_type\": \"Service\"\n",
      "  },\n",
      "  {\n",
      "    \"name\": \"Post Service\",\n",
      "    \"description\": \"Responsible for managing posts, including uploading, sharing, and browsing.\",\n",
      "    \"component_type\": \"Service\"\n",
      "  },\n",
      "  {\n",
      "    \"name\": \"Follow Service\",\n",
      "    \"description\": \"Responsible for managing user follow relationships.\",\n",
      "    \"component_type\": \"Service\"\n",
      "  },\n",
      "  {\n",
      "    \"name\": \"Comment Service\",\n",
      "    \"description\": \"Responsible for managing comments on posts.\",\n",
      "    \"component_type\": \"Service\"\n",
      "  },\n",
      "  {\n",
      "    \"name\": \"Media Storage\",\n",
      "    \"description\": \"Responsible for storing photos and videos uploaded by users.\",\n",
      "    \"component_type\": \"Storage\"\n",
      "  },\n",
      "  {\n",
      "    \"name\": \"Database\",\n",
      "    \"description\": \"Responsible for storing user, post, and follow data.\",\n",
      "    \"component_type\": \"Storage\"\n",
      "  },\n",
      "  {\n",
      "    \"name\": \"Cache\",\n",
      "    \"description\": \"Responsible for caching frequently accessed data to improve performance.\",\n",
      "    \"component_type\": \"Cache\"\n",
      "  },\n",
      "  {\n",
      "    \"name\": \"Load Balancer\",\n",
      "    \"description\": \"Responsible for distributing incoming requests across multiple instances of the service components.\",\n",
      "    \"component_type\": \"Load balancer\"\n",
      "  }\n",
      "]\u001b[0m\n",
      "\n",
      "\u001b[1m> Finished chain.\u001b[0m\n"
     ]
    }
   ],
   "source": [
    "overall_chain = SimpleSequentialChain(chains=[llm_chain_fr, llm_chain_comp2], verbose=True)\n",
    "final_output = overall_chain.run(problem_statement)"
   ]
  },
  {
   "cell_type": "code",
   "execution_count": 107,
   "id": "440a2fae",
   "metadata": {},
   "outputs": [
    {
     "name": "stdout",
     "output_type": "stream",
     "text": [
      "[\n",
      "  {\n",
      "    \"name\": \"User Service\",\n",
      "    \"description\": \"Responsible for user authentication, registration, and management.\",\n",
      "    \"component_type\": \"Service\"\n",
      "  },\n",
      "  {\n",
      "    \"name\": \"Post Service\",\n",
      "    \"description\": \"Responsible for managing posts, including uploading, sharing, and browsing.\",\n",
      "    \"component_type\": \"Service\"\n",
      "  },\n",
      "  {\n",
      "    \"name\": \"Follow Service\",\n",
      "    \"description\": \"Responsible for managing user follow relationships.\",\n",
      "    \"component_type\": \"Service\"\n",
      "  },\n",
      "  {\n",
      "    \"name\": \"Comment Service\",\n",
      "    \"description\": \"Responsible for managing comments on posts.\",\n",
      "    \"component_type\": \"Service\"\n",
      "  },\n",
      "  {\n",
      "    \"name\": \"Media Storage\",\n",
      "    \"description\": \"Responsible for storing photos and videos uploaded by users.\",\n",
      "    \"component_type\": \"Storage\"\n",
      "  },\n",
      "  {\n",
      "    \"name\": \"Database\",\n",
      "    \"description\": \"Responsible for storing user, post, and follow data.\",\n",
      "    \"component_type\": \"Storage\"\n",
      "  },\n",
      "  {\n",
      "    \"name\": \"Cache\",\n",
      "    \"description\": \"Responsible for caching frequently accessed data to improve performance.\",\n",
      "    \"component_type\": \"Cache\"\n",
      "  },\n",
      "  {\n",
      "    \"name\": \"Load Balancer\",\n",
      "    \"description\": \"Responsible for distributing incoming requests across multiple instances of the service components.\",\n",
      "    \"component_type\": \"Load balancer\"\n",
      "  }\n",
      "]\n"
     ]
    }
   ],
   "source": [
    "print(final_output)"
   ]
  },
  {
   "cell_type": "code",
   "execution_count": 235,
   "id": "c009b3dc",
   "metadata": {},
   "outputs": [
    {
     "data": {
      "text/plain": [
       "ChatOpenAI(verbose=False, callbacks=None, callback_manager=None, client=<class 'openai.api_resources.chat_completion.ChatCompletion'>, model_name='gpt-3.5-turbo', temperature=0.3, model_kwargs={}, openai_api_key=None, openai_api_base=None, openai_organization=None, request_timeout=None, max_retries=6, streaming=False, n=1, max_tokens=512)"
      ]
     },
     "execution_count": 235,
     "metadata": {},
     "output_type": "execute_result"
    }
   ],
   "source": [
    "llm"
   ]
  },
  {
   "cell_type": "markdown",
   "id": "5e420f21",
   "metadata": {},
   "source": [
    "## Step 3 :  Independent Component Design"
   ]
  },
  {
   "cell_type": "code",
   "execution_count": 267,
   "id": "fecc7028",
   "metadata": {},
   "outputs": [],
   "source": [
    "prompt_template_designer = '''\n",
    "You are an assistant to design a distributed System. \n",
    "Given an input about a single component of a large system, you have to design the component.\n",
    "1. You should understand the requirement of this component from the description\n",
    "2. Your design should consider and list multiple approaches to solve this particular requirement in very short, compare them based on the use case and suggest the best possible option.\n",
    "3. On Storage type component, you should identify what type of data to store from the description of the input \n",
    "and which database should be appropriate for the data, \n",
    "4. if there are different data types, consider different and best storage for each of them.\n",
    "5. Suggest a well-known cloud offering that satisfies the requirement of the component from {cloud_provider} cloud provider.\n",
    "\n",
    "You should iterate to each of the points mentioned above to refine the design.\n",
    "\n",
    "{problem_statement}\n",
    "\n",
    "'''\n",
    "prompt_designer = PromptTemplate(template=prompt_template_designer, \n",
    "                        input_variables=[\"problem_statement\", \"cloud_provider\"])"
   ]
  },
  {
   "cell_type": "code",
   "execution_count": 274,
   "id": "7a15f8cd",
   "metadata": {},
   "outputs": [
    {
     "name": "stdout",
     "output_type": "stream",
     "text": [
      "\n",
      "\n",
      "\u001b[1m> Entering new LLMChain chain...\u001b[0m\n",
      "Prompt after formatting:\n",
      "\u001b[32;1m\u001b[1;3m\n",
      "You are an assistant to design a distributed System. \n",
      "Given an input about a single component of a large system, you have to design the component.\n",
      "1. You should understand the requirement of this component from the description\n",
      "2. Your design should consider and list multiple approaches to solve this particular requirement in very short, compare them based on the use case and suggest the best possible option.\n",
      "3. On Storage type component, you should identify what type of data to store from the description of the input \n",
      "and which database should be appropriate for the data, \n",
      "4. if there are different data types, consider different and best storage for each of them.\n",
      "5. Suggest a well-known cloud offering that satisfies the requirement of the component from azure cloud provider.\n",
      "\n",
      "You should iterate to each of the points mentioned above to refine the design.\n",
      "\n",
      "name='Storage' description='Stores user data, posts, comments, and media files' component_type='Storage'\n",
      "\n",
      "\u001b[0m\n"
     ]
    },
    {
     "name": "stderr",
     "output_type": "stream",
     "text": [
      "Retrying langchain.chat_models.openai.ChatOpenAI.completion_with_retry.<locals>._completion_with_retry in 1.0 seconds as it raised APIConnectionError: Error communicating with OpenAI: ('Connection aborted.', RemoteDisconnected('Remote end closed connection without response')).\n"
     ]
    },
    {
     "name": "stdout",
     "output_type": "stream",
     "text": [
      "\n",
      "\u001b[1m> Finished chain.\u001b[0m\n",
      "1. Requirement: The component should be able to store different types of data such as user data, posts, comments, and media files.\n",
      "\n",
      "2. Approaches:\n",
      "- Relational database: This approach involves using a traditional relational database such as MySQL or PostgreSQL to store the data. This approach is suitable for structured data and provides strong consistency and ACID transactions. However, it may not be the best option for storing unstructured data such as media files.\n",
      "- NoSQL database: This approach involves using a NoSQL database such as MongoDB or Cassandra to store the data. This approach is suitable for unstructured data and provides high scalability and availability. However, it may not provide strong consistency and ACID transactions.\n",
      "- Object storage: This approach involves using an object storage service such as Amazon S3 or Azure Blob Storage to store the data. This approach is suitable for storing large unstructured data such as media files and provides high scalability and availability. However, it may not be the best option for structured data.\n",
      "\n",
      "Based on the use case, the best possible option would be to use a combination of relational database and object storage. Relational database can be used to store structured data such as user data, posts, and comments, while object storage can be used to store media files.\n",
      "\n",
      "3. Data types and appropriate database:\n",
      "- User data, posts, and comments: Relational database such as MySQL or PostgreSQL\n",
      "- Media files: Object storage service such as Amazon S3 or Azure Blob Storage\n",
      "\n",
      "4. Different storage for each data type:\n",
      "- User data, posts, and comments: Relational database such as MySQL or PostgreSQL\n",
      "- Media files: Object storage service such as Amazon S3 or Azure Blob Storage\n",
      "\n",
      "5. Cloud offering:\n",
      "Azure Blob Storage would be a well-known cloud offering that satisfies the requirement of the component. It provides highly scalable and available object storage for media files and can be easily integrated with relational databases such as Azure SQL Database for structured data.\n"
     ]
    }
   ],
   "source": [
    "llm_chain_desginer = LLMChain(prompt=prompt_designer, llm=llm, verbose=True)\n",
    "\n",
    "component = '''{\n",
    "    \"name\": \"Media Storage\",\n",
    "    \"description\": \"Responsible for storing photos and videos uploaded by users.\",\n",
    "    \"component_type\": \"Storage\"\n",
    "  }'''\n",
    "\n",
    "c2 = \"name='Storage' description='Stores user data, posts, comments, and media files' component_type='Storage'\"\n",
    "\n",
    "output = llm_chain_desginer.run(\n",
    "    problem_statement = c2,\n",
    "    cloud_provider = \"azure\"\n",
    ")\n",
    "print(output)"
   ]
  },
  {
   "cell_type": "code",
   "execution_count": 315,
   "id": "dd53b764",
   "metadata": {},
   "outputs": [],
   "source": [
    "class ServiceComponent(BaseModel):\n",
    "    '''Represents a Service Component with a design'''\n",
    "    requirement: str = Field(description=\"Requirements of the service component\")\n",
    "    apis: List[str] = Field(description=\"apis of the service\")\n",
    "    conclusion: str = Field(description=\"overall conclusions on the component\")\n",
    "\n",
    "    def __str__(self) -> str:\n",
    "        apistr = '\\t'\n",
    "        for api in self.apis:\n",
    "            apistr += api + '\\n\\t'\n",
    "        return f'''#### Requirements:\\n{self.requirement}\\n#### APIs\\n{apistr}\\n#### Comments\\n{self.conclusion}\\n\n",
    "        '''"
   ]
  },
  {
   "cell_type": "code",
   "execution_count": 317,
   "id": "b4c77dc4",
   "metadata": {},
   "outputs": [],
   "source": [
    "prompt_template_service_designer = '''\n",
    "You are an assistant to design a distributed System. \n",
    "Given an input about a single service component of a large system, you have to design the component.\n",
    "1. You should understand the requirement of this component from the description.\n",
    "2. You should provide the minimum list of APIs that this component should handle. \n",
    "\n",
    "You should iterate to each of the points mentioned above to refine the design.\n",
    "Your design should be very specific to the problem and do not generate extra outputs. \n",
    "\n",
    "{format_instructions}\n",
    "\n",
    "## Example\n",
    "{{\n",
    "    \"name\" : \"Order Service\",\n",
    "    \"description\" : \"Responsible for placing an order.\",\n",
    "    \"component_type\" : \"Service\"\n",
    "}}\n",
    "\n",
    "## Sample Output:\n",
    "\n",
    "{{\n",
    "    \"requirement\": \"Responsible for checking out one or more items in a cart and places an order\",\n",
    "    \"apis\": [\"AddToCart(item) - Adds one item to the cart\", \"DeleteFromCart(item) - deletes one item from the cart.\", \"CreateOrder(orderId) - Create an order from the cart items.\", \"PlaceOrder(orderId) - Initiates the payment for the order\"],\n",
    "    \"conclusion\": \"With the apis, the ordering service fulfills the minimal requirements of placing an order.\"\n",
    "}}\n",
    "\n",
    "\n",
    "Now design the service component for the below -\n",
    "{problem_statement}\n",
    "\n",
    "'''\n",
    "parser2 = PydanticOutputParser(pydantic_object=ServiceComponent)\n",
    "prompt_designer_svc = PromptTemplate(template=prompt_template_service_designer, \n",
    "                        input_variables=[\"problem_statement\"],\n",
    "                        partial_variables={\"format_instructions\": parser2.get_format_instructions()})\n",
    "\n",
    "llm_chain_desginer_svc = LLMChain(prompt=prompt_designer_svc, llm=llm, verbose=True)"
   ]
  },
  {
   "cell_type": "code",
   "execution_count": 318,
   "id": "4df4519f",
   "metadata": {},
   "outputs": [
    {
     "name": "stdout",
     "output_type": "stream",
     "text": [
      "\n",
      "\n",
      "\u001b[1m> Entering new LLMChain chain...\u001b[0m\n",
      "Prompt after formatting:\n",
      "\u001b[32;1m\u001b[1;3m\n",
      "You are an assistant to design a distributed System. \n",
      "Given an input about a single service component of a large system, you have to design the component.\n",
      "1. You should understand the requirement of this component from the description.\n",
      "2. You should provide the minimum list of APIs that this component should handle. \n",
      "\n",
      "You should iterate to each of the points mentioned above to refine the design.\n",
      "Your design should be very specific to the problem and do not generate extra outputs. \n",
      "\n",
      "The output should be formatted as a JSON instance that conforms to the JSON schema below.\n",
      "\n",
      "As an example, for the schema {\"properties\": {\"foo\": {\"title\": \"Foo\", \"description\": \"a list of strings\", \"type\": \"array\", \"items\": {\"type\": \"string\"}}}, \"required\": [\"foo\"]}}\n",
      "the object {\"foo\": [\"bar\", \"baz\"]} is a well-formatted instance of the schema. The object {\"properties\": {\"foo\": [\"bar\", \"baz\"]}} is not well-formatted.\n",
      "\n",
      "Here is the output schema:\n",
      "```\n",
      "{\"description\": \"Represents a Service Component with a design\", \"properties\": {\"requirement\": {\"title\": \"Requirement\", \"description\": \"Requirements of the service component\", \"type\": \"string\"}, \"apis\": {\"title\": \"Apis\", \"description\": \"apis of the service\", \"type\": \"array\", \"items\": {\"type\": \"string\"}}, \"conclusion\": {\"title\": \"Conclusion\", \"description\": \"overall conclusions on the component\", \"type\": \"string\"}}, \"required\": [\"requirement\", \"apis\", \"conclusion\"]}\n",
      "```\n",
      "\n",
      "## Example\n",
      "{\n",
      "    \"name\" : \"Order Service\",\n",
      "    \"description\" : \"Responsible for placing an order.\",\n",
      "    \"component_type\" : \"Service\"\n",
      "}\n",
      "\n",
      "## Sample Output:\n",
      "\n",
      "{\n",
      "    \"requirement\": \"Responsible for checking out one or more items in a cart and places an order\",\n",
      "    \"apis\": [\"AddToCart(item) - Adds one item to the cart\", \"DeleteFromCart(item) - deletes one item from the cart.\", \"CreateOrder(orderId) - Create an order from the cart items.\", \"PlaceOrder(orderId) - Initiates the payment for the order\"],\n",
      "    \"conclusion\": \"With the apis, the ordering service fulfills the minimal requirements of placing an order.\"\n",
      "}\n",
      "\n",
      "\n",
      "Now design the service component for the below -\n",
      "{\n",
      "    \"name\": \"Comment Service\",\n",
      "    \"description\": \"Responsible for managing comments on posts.\",\n",
      "    \"component_type\": \"Service\"\n",
      "  }\n",
      "\n",
      "\u001b[0m\n",
      "\n",
      "\u001b[1m> Finished chain.\u001b[0m\n",
      "## Sample Output:\n",
      "\n",
      "{\n",
      "    \"requirement\": \"Responsible for managing comments on posts\",\n",
      "    \"apis\": [\"CreateComment(postId, comment) - Creates a new comment on the post with the given postId\", \"GetComments(postId) - Retrieves all comments on the post with the given postId\", \"UpdateComment(commentId, comment) - Updates the comment with the given commentId\", \"DeleteComment(commentId) - Deletes the comment with the given commentId\"],\n",
      "    \"conclusion\": \"With the apis, the comment service fulfills the minimal requirements of managing comments on posts.\"\n",
      "}\n"
     ]
    }
   ],
   "source": [
    "component = '''{\n",
    "    \"name\": \"Comment Service\",\n",
    "    \"description\": \"Responsible for managing comments on posts.\",\n",
    "    \"component_type\": \"Service\"\n",
    "  }'''\n",
    "\n",
    "output = llm_chain_desginer_svc.run(\n",
    "    problem_statement = component\n",
    ")\n",
    "print(output)"
   ]
  },
  {
   "cell_type": "code",
   "execution_count": 319,
   "id": "0d9957f7",
   "metadata": {},
   "outputs": [
    {
     "name": "stdout",
     "output_type": "stream",
     "text": [
      "#### Requirements:\n",
      "Responsible for managing comments on posts\n",
      "#### APIs\n",
      "\tCreateComment(postId, comment) - Creates a new comment on the post with the given postId\n",
      "\tGetComments(postId) - Retrieves all comments on the post with the given postId\n",
      "\tUpdateComment(commentId, comment) - Updates the comment with the given commentId\n",
      "\tDeleteComment(commentId) - Deletes the comment with the given commentId\n",
      "\t\n",
      "#### Comments\n",
      "With the apis, the comment service fulfills the minimal requirements of managing comments on posts.\n",
      "\n",
      "        \n"
     ]
    }
   ],
   "source": [
    "comp_des = parser2.parse(output)\n",
    "print(comp_des)"
   ]
  },
  {
   "cell_type": "code",
   "execution_count": 279,
   "id": "25eaa367",
   "metadata": {},
   "outputs": [],
   "source": [
    "prompt_template_misc_designer = '''\n",
    "You are an assistant to design a distributed System. \n",
    "Given an input about a component of a large system, you have to design the component.\n",
    "1. You should understand the requirement of this component from the description.\n",
    "2. You should enlist a few approaches to solve the problem and the requirement.\n",
    "3. Suggest a well-known cloud offering that satisfies the requirement of the component from {cloud_provider} cloud provider.\n",
    "\n",
    "You should iterate to each of the points mentioned above to refine the design.\n",
    "Your design should be very specific to the problem and do not generate extra outputs.\n",
    "\n",
    "{problem_statement}\n",
    "\n",
    "'''\n",
    "prompt_designer_misc = PromptTemplate(template=prompt_template_misc_designer, \n",
    "                        input_variables=[\"problem_statement\", \"cloud_provider\"])\n",
    "\n",
    "\n",
    "\n",
    "llm_chain_desginer_misc = LLMChain(prompt=prompt_designer_misc, llm=llm, verbose=True)"
   ]
  },
  {
   "cell_type": "code",
   "execution_count": 281,
   "id": "9f099544",
   "metadata": {},
   "outputs": [
    {
     "name": "stdout",
     "output_type": "stream",
     "text": [
      "\n",
      "\n",
      "\u001b[1m> Entering new LLMChain chain...\u001b[0m\n",
      "Prompt after formatting:\n",
      "\u001b[32;1m\u001b[1;3m\n",
      "You are an assistant to design a distributed System. \n",
      "Given an input about a component of a large system, you have to design the component.\n",
      "1. You should understand the requirement of this component from the description.\n",
      "2. You should enlist a few approaches to solve the problem and the requirement.\n",
      "3. Suggest a well-known cloud offering that satisfies the requirement of the component from Azure cloud provider.\n",
      "\n",
      "You should iterate to each of the points mentioned above to refine the design.\n",
      "Your design should be very specific to the problem and do not generate extra outputs.\n",
      "\n",
      "{\n",
      "    \"name\": \"Load Balancer\",\n",
      "    \"description\": \"Responsible for distributing incoming requests across multiple instances of the service components.\",\n",
      "    \"component_type\": \"Load balancer\"\n",
      "  }\n",
      "\n",
      "\u001b[0m\n",
      "\n",
      "\u001b[1m> Finished chain.\u001b[0m\n"
     ]
    }
   ],
   "source": [
    "ps = '''{\n",
    "    \"name\": \"Load Balancer\",\n",
    "    \"description\": \"Responsible for distributing incoming requests across multiple instances of the service components.\",\n",
    "    \"component_type\": \"Load balancer\"\n",
    "  }'''\n",
    "\n",
    "output = llm_chain_desginer_misc.run(problem_statement = ps, cloud_provider='Azure')"
   ]
  },
  {
   "cell_type": "code",
   "execution_count": 282,
   "id": "0196547a",
   "metadata": {},
   "outputs": [
    {
     "name": "stdout",
     "output_type": "stream",
     "text": [
      "1. Requirement: The Load Balancer component should be able to distribute incoming requests across multiple instances of the service components.\n",
      "\n",
      "2. Approaches:\n",
      "- Round-robin approach: The Load Balancer distributes incoming requests equally across all available instances of the service components.\n",
      "- Weighted approach: The Load Balancer distributes incoming requests based on the weight assigned to each instance of the service components. The weight can be based on the capacity of the instance or any other relevant factor.\n",
      "- Least connections approach: The Load Balancer distributes incoming requests to the instance with the least number of active connections.\n",
      "- IP hash approach: The Load Balancer distributes incoming requests based on the source IP address of the request. This ensures that requests from the same IP address are always directed to the same instance of the service component.\n",
      "\n",
      "3. Azure Cloud Offering: Azure Application Gateway is a cloud offering that satisfies the requirement of the Load Balancer component. It provides layer 7 load balancing capabilities and supports multiple load balancing algorithms, including round-robin, weighted, and least connections. It also supports SSL offloading, URL-based routing, and session affinity.\n"
     ]
    }
   ],
   "source": [
    "print(output)"
   ]
  },
  {
   "cell_type": "markdown",
   "id": "fa0815ed",
   "metadata": {},
   "source": [
    "## Output Parser"
   ]
  },
  {
   "cell_type": "code",
   "execution_count": 4,
   "id": "27781ae3",
   "metadata": {},
   "outputs": [],
   "source": [
    "from langchain.output_parsers import PydanticOutputParser\n",
    "from pydantic import BaseModel, Field, validator\n",
    "from typing import List"
   ]
  },
  {
   "cell_type": "code",
   "execution_count": 140,
   "id": "2b307a47",
   "metadata": {},
   "outputs": [],
   "source": [
    "class Component(BaseModel):\n",
    "    name: str = Field(description=\"name of the component\")\n",
    "    description: str = Field(description=\"description of the component\")\n",
    "    component_type: str = Field(description=\"type of the component\")\n",
    "    \n",
    "    # You can add custom validation logic easily with Pydantic.\n",
    "    @validator('component_type')\n",
    "    def component_type_validation(cls, field):\n",
    "        if field not in ['Storage', 'Service', 'Load Balancer', 'Cache', 'Database']:\n",
    "            raise ValueError(f'not a valid component : {field}')\n",
    "        return field\n",
    "    \n",
    "class Components(BaseModel):\n",
    "    components: list[Component] = Field(description=\"List of Components\")\n"
   ]
  },
  {
   "cell_type": "code",
   "execution_count": 141,
   "id": "a0d7e43d",
   "metadata": {},
   "outputs": [],
   "source": [
    "parser = PydanticOutputParser(pydantic_object=Components)"
   ]
  },
  {
   "cell_type": "code",
   "execution_count": 255,
   "id": "f4212bf7",
   "metadata": {},
   "outputs": [],
   "source": [
    "prompt_template_parser = '''\n",
    "You are an assistant to design a distributed System. \n",
    "Given a list of functional requirements, you have to provide **high level Components** of the system under design.\n",
    "1. Each component should be either of the types - Storage, Service, Cache, Load Balancer. \n",
    "2. The Service components should be independent and mutually exclusive of responsibilities.\n",
    "3. The Storage component should be present and the requirements should be stated clearly.\n",
    "4. Cache component should only be present if there is a necessary of caching of data.\n",
    "5. Load Balancer component should specify its requirements very specifically.\n",
    "\n",
    "{format_instructions}\n",
    "\n",
    "Output based on the functional requirement as below : \n",
    "{problem_statement}\n",
    "'''\n",
    "prompt_component = PromptTemplate(template=prompt_template_parser, \n",
    "                        input_variables=[\"problem_statement\"],\n",
    "                        partial_variables={\"format_instructions\": parser.get_format_instructions()}\n",
    "                    )"
   ]
  },
  {
   "cell_type": "code",
   "execution_count": 256,
   "id": "9a3085a4",
   "metadata": {},
   "outputs": [],
   "source": [
    "func_requirement = '''1. Photo and video sharing functionality - allow users to upload and share photos and videos within the application.\n",
    "2. Following functionality - enable users to follow other users and view their posts in a personalized feed.\n",
    "3. Browsing functionality - allow users to browse through posts made by the users they follow.\n",
    "4. Commenting functionality - enable users to add comments on posts made by other users.\n",
    "5. User profile functionality - allow users to create and manage their own profile, including their posts and followers.'''"
   ]
  },
  {
   "cell_type": "code",
   "execution_count": 257,
   "id": "5ab171a0",
   "metadata": {},
   "outputs": [],
   "source": [
    "_input = prompt_component.format_prompt(problem_statement=func_requirement)"
   ]
  },
  {
   "cell_type": "code",
   "execution_count": 258,
   "id": "1d64d102",
   "metadata": {},
   "outputs": [
    {
     "name": "stdout",
     "output_type": "stream",
     "text": [
      "\n",
      "You are an assistant to design a distributed System. \n",
      "Given a list of functional requirements, you have to provide **high level Components** of the system under design.\n",
      "1. Each component should be either of the types - Storage, Service, Cache, Load Balancer. \n",
      "2. The Service components should be independent and mutually exclusive of responsibilities.\n",
      "3. The Storage component should be present and the requirements should be stated clearly.\n",
      "4. Cache component should only be present if there is a necessary of caching of data.\n",
      "5. Load Balancer component should specify its requirements very specifically.\n",
      "\n",
      "The output should be formatted as a JSON instance that conforms to the JSON schema below.\n",
      "\n",
      "As an example, for the schema {\"properties\": {\"foo\": {\"title\": \"Foo\", \"description\": \"a list of strings\", \"type\": \"array\", \"items\": {\"type\": \"string\"}}}, \"required\": [\"foo\"]}}\n",
      "the object {\"foo\": [\"bar\", \"baz\"]} is a well-formatted instance of the schema. The object {\"properties\": {\"foo\": [\"bar\", \"baz\"]}} is not well-formatted.\n",
      "\n",
      "Here is the output schema:\n",
      "```\n",
      "{\"properties\": {\"components\": {\"title\": \"Components\", \"description\": \"List of Components\", \"type\": \"array\", \"items\": {\"$ref\": \"#/definitions/Component\"}}}, \"required\": [\"components\"], \"definitions\": {\"Component\": {\"title\": \"Component\", \"type\": \"object\", \"properties\": {\"name\": {\"title\": \"Name\", \"description\": \"name of the component\", \"type\": \"string\"}, \"description\": {\"title\": \"Description\", \"description\": \"description of the component\", \"type\": \"string\"}, \"component_type\": {\"title\": \"Component Type\", \"description\": \"type of the component\", \"type\": \"string\"}}, \"required\": [\"name\", \"description\", \"component_type\"]}}}\n",
      "```\n",
      "\n",
      "Output based on the functional requirement as below : \n",
      "1. Photo and video sharing functionality - allow users to upload and share photos and videos within the application.\n",
      "2. Following functionality - enable users to follow other users and view their posts in a personalized feed.\n",
      "3. Browsing functionality - allow users to browse through posts made by the users they follow.\n",
      "4. Commenting functionality - enable users to add comments on posts made by other users.\n",
      "5. User profile functionality - allow users to create and manage their own profile, including their posts and followers.\n",
      "\n"
     ]
    }
   ],
   "source": [
    "print(_input.to_string())"
   ]
  },
  {
   "cell_type": "code",
   "execution_count": 259,
   "id": "bd45a259",
   "metadata": {},
   "outputs": [],
   "source": [
    "### Use it in a chain"
   ]
  },
  {
   "cell_type": "code",
   "execution_count": 260,
   "id": "fb402266",
   "metadata": {},
   "outputs": [],
   "source": [
    "chain_func_req = LLMChain(prompt = prompt_fr, llm=llm, verbose=True)\n",
    "chain_comp = LLMChain(prompt=prompt_component, llm=llm, verbose=True)"
   ]
  },
  {
   "cell_type": "code",
   "execution_count": 261,
   "id": "5a842784",
   "metadata": {},
   "outputs": [
    {
     "data": {
      "text/plain": [
       "(['problem_statement'], ['text'])"
      ]
     },
     "execution_count": 261,
     "metadata": {},
     "output_type": "execute_result"
    }
   ],
   "source": [
    "chain_func_req.input_keys, chain_func_req.output_keys"
   ]
  },
  {
   "cell_type": "code",
   "execution_count": 262,
   "id": "83534766",
   "metadata": {},
   "outputs": [
    {
     "data": {
      "text/plain": [
       "(['problem_statement'], ['text'])"
      ]
     },
     "execution_count": 262,
     "metadata": {},
     "output_type": "execute_result"
    }
   ],
   "source": [
    "chain_comp.input_keys, chain_comp.output_keys"
   ]
  },
  {
   "cell_type": "code",
   "execution_count": 263,
   "id": "52cd85f8",
   "metadata": {},
   "outputs": [],
   "source": [
    "overall_chain = SimpleSequentialChain(chains=[chain_func_req, chain_comp], verbose=True)"
   ]
  },
  {
   "cell_type": "code",
   "execution_count": 264,
   "id": "1bd4b766",
   "metadata": {},
   "outputs": [
    {
     "data": {
      "text/plain": [
       "['input']"
      ]
     },
     "execution_count": 264,
     "metadata": {},
     "output_type": "execute_result"
    }
   ],
   "source": [
    "overall_chain.input_keys"
   ]
  },
  {
   "cell_type": "code",
   "execution_count": 265,
   "id": "3885da1b",
   "metadata": {},
   "outputs": [
    {
     "name": "stdout",
     "output_type": "stream",
     "text": [
      "\n",
      "\n",
      "\u001b[1m> Entering new SimpleSequentialChain chain...\u001b[0m\n",
      "\n",
      "\n",
      "\u001b[1m> Entering new LLMChain chain...\u001b[0m\n",
      "Prompt after formatting:\n",
      "\u001b[32;1m\u001b[1;3mYou are an expert in distributed system. \n",
      "The scope of your task will be to identify functional requirements from a given system design problem statement.\n",
      "On response you should list down the functional requirements as you understand.\n",
      "\n",
      "## Example:\n",
      "Problem Statement : Design a Chat Application like WhatsApp, where an user can send or receive message, create a group with more than 2 people, gets notification when a new message is received.\n",
      "\n",
      "## Sample Output:\n",
      "1. Messaging functionality - allow users to send and receive messages through the chat application.\n",
      "2. Group creation functionality - enable users to create groups within the application, which they can join to communicate with other members.\n",
      "3. Notification functionality - notify users when someone sends them a new message, or when a new member joins their group.\n",
      "\n",
      "Design a photo sharing application like instagram, \n",
      "where users can post photoes or vides, follow other users, browse throught the photo, video posted by the following users, add comments on those posts.\n",
      "\n",
      "\u001b[0m\n",
      "\n",
      "\u001b[1m> Finished chain.\u001b[0m\n",
      "\u001b[36;1m\u001b[1;3m1. Photo and video posting functionality - allow users to upload and share photos and videos on the application.\n",
      "2. Following functionality - enable users to follow other users on the application to view their posts.\n",
      "3. Browsing functionality - allow users to browse through the posts of the users they follow.\n",
      "4. Commenting functionality - enable users to add comments on the posts of other users.\u001b[0m\n",
      "\n",
      "\n",
      "\u001b[1m> Entering new LLMChain chain...\u001b[0m\n",
      "Prompt after formatting:\n",
      "\u001b[32;1m\u001b[1;3m\n",
      "You are an assistant to design a distributed System. \n",
      "Given a list of functional requirements, you have to provide **high level Components** of the system under design.\n",
      "1. Each component should be either of the types - Storage, Service, Cache, Load Balancer. \n",
      "2. The Service components should be independent and mutually exclusive of responsibilities.\n",
      "3. The Storage component should be present and the requirements should be stated clearly.\n",
      "4. Cache component should only be present if there is a necessary of caching of data.\n",
      "5. Load Balancer component should specify its requirements very specifically.\n",
      "\n",
      "The output should be formatted as a JSON instance that conforms to the JSON schema below.\n",
      "\n",
      "As an example, for the schema {\"properties\": {\"foo\": {\"title\": \"Foo\", \"description\": \"a list of strings\", \"type\": \"array\", \"items\": {\"type\": \"string\"}}}, \"required\": [\"foo\"]}}\n",
      "the object {\"foo\": [\"bar\", \"baz\"]} is a well-formatted instance of the schema. The object {\"properties\": {\"foo\": [\"bar\", \"baz\"]}} is not well-formatted.\n",
      "\n",
      "Here is the output schema:\n",
      "```\n",
      "{\"properties\": {\"components\": {\"title\": \"Components\", \"description\": \"List of Components\", \"type\": \"array\", \"items\": {\"$ref\": \"#/definitions/Component\"}}}, \"required\": [\"components\"], \"definitions\": {\"Component\": {\"title\": \"Component\", \"type\": \"object\", \"properties\": {\"name\": {\"title\": \"Name\", \"description\": \"name of the component\", \"type\": \"string\"}, \"description\": {\"title\": \"Description\", \"description\": \"description of the component\", \"type\": \"string\"}, \"component_type\": {\"title\": \"Component Type\", \"description\": \"type of the component\", \"type\": \"string\"}}, \"required\": [\"name\", \"description\", \"component_type\"]}}}\n",
      "```\n",
      "\n",
      "Output based on the functional requirement as below : \n",
      "1. Photo and video posting functionality - allow users to upload and share photos and videos on the application.\n",
      "2. Following functionality - enable users to follow other users on the application to view their posts.\n",
      "3. Browsing functionality - allow users to browse through the posts of the users they follow.\n",
      "4. Commenting functionality - enable users to add comments on the posts of other users.\n",
      "\u001b[0m\n",
      "\n",
      "\u001b[1m> Finished chain.\u001b[0m\n",
      "\u001b[33;1m\u001b[1;3m{\n",
      "  \"components\": [\n",
      "    {\n",
      "      \"name\": \"Storage\",\n",
      "      \"description\": \"Stores user data, posts, and comments\",\n",
      "      \"component_type\": \"Storage\"\n",
      "    },\n",
      "    {\n",
      "      \"name\": \"Photo and Video Service\",\n",
      "      \"description\": \"Handles photo and video uploading and sharing\",\n",
      "      \"component_type\": \"Service\"\n",
      "    },\n",
      "    {\n",
      "      \"name\": \"Following Service\",\n",
      "      \"description\": \"Handles following functionality\",\n",
      "      \"component_type\": \"Service\"\n",
      "    },\n",
      "    {\n",
      "      \"name\": \"Browsing Service\",\n",
      "      \"description\": \"Handles browsing functionality\",\n",
      "      \"component_type\": \"Service\"\n",
      "    },\n",
      "    {\n",
      "      \"name\": \"Commenting Service\",\n",
      "      \"description\": \"Handles commenting functionality\",\n",
      "      \"component_type\": \"Service\"\n",
      "    },\n",
      "    {\n",
      "      \"name\": \"Cache\",\n",
      "      \"description\": \"Caches frequently accessed data for faster access\",\n",
      "      \"component_type\": \"Cache\"\n",
      "    },\n",
      "    {\n",
      "      \"name\": \"Load Balancer\",\n",
      "      \"description\": \"Distributes incoming requests across multiple instances of the service components\",\n",
      "      \"component_type\": \"Load Balancer\"\n",
      "    }\n",
      "  ]\n",
      "}\u001b[0m\n",
      "\n",
      "\u001b[1m> Finished chain.\u001b[0m\n"
     ]
    }
   ],
   "source": [
    "problem_statement = '''Design a photo sharing application like instagram, \n",
    "where users can post photoes or vides, follow other users, browse throught the photo, video posted by the following users, add comments on those posts.\n",
    "'''\n",
    "final_output = overall_chain.run(problem_statement)"
   ]
  },
  {
   "cell_type": "code",
   "execution_count": 155,
   "id": "6b98dc36",
   "metadata": {},
   "outputs": [],
   "source": [
    "op = parser.parse(final_output)"
   ]
  },
  {
   "cell_type": "code",
   "execution_count": 156,
   "id": "ec68cc69",
   "metadata": {},
   "outputs": [
    {
     "data": {
      "text/plain": [
       "[Component(name='Load Balancer', description='Distributes incoming traffic across multiple service instances', component_type='Load Balancer'),\n",
       " Component(name='Service 1', description='Handles posting functionality', component_type='Service'),\n",
       " Component(name='Service 2', description='Handles following functionality', component_type='Service'),\n",
       " Component(name='Service 3', description='Handles browsing functionality', component_type='Service'),\n",
       " Component(name='Service 4', description='Handles commenting functionality', component_type='Service'),\n",
       " Component(name='Cache', description='Stores frequently accessed data to reduce database load', component_type='Cache'),\n",
       " Component(name='Database', description='Stores all user data and posts', component_type='Storage')]"
      ]
     },
     "execution_count": 156,
     "metadata": {},
     "output_type": "execute_result"
    }
   ],
   "source": [
    "op.components"
   ]
  },
  {
   "cell_type": "code",
   "execution_count": 224,
   "id": "73da7ee0",
   "metadata": {},
   "outputs": [],
   "source": [
    "from langchain.chains import LLMChain\n",
    "from langchain.chains.base import Chain\n",
    "from typing import Any, Dict, List, Optional\n",
    "from langchain.input import get_color_mapping\n",
    "from pydantic import Extra, root_validator\n",
    "\n",
    "from langchain.callbacks.manager import (\n",
    "    AsyncCallbackManagerForChainRun,\n",
    "    CallbackManagerForChainRun,\n",
    ")\n",
    "\n",
    "from typing import Dict, List\n",
    "\n",
    "class SequentialOutputChain(Chain):\n",
    "\n",
    "    chains: List[Chain]\n",
    "    chained_input_key: str = 'input' #: :meta private:\n",
    "    output_key: str = 'output'\n",
    "    \n",
    "    @property\n",
    "    def input_keys(self) -> List[str]:\n",
    "        # Union of the input keys of the two chains.\n",
    "        all_input_vars = set()\n",
    "        for chain in self.chains:\n",
    "            all_input_vars = all_input_vars.union(set(chain.input_keys))\n",
    "        return list(all_input_vars)\n",
    "\n",
    "    @property\n",
    "    def output_keys(self) -> List[str]:\n",
    "        return [self.output_key] + [f'chain_{i}' for i in range(len(self.chains))]\n",
    "\n",
    "    def _call(self, \n",
    "              inputs: Dict[str, str],\n",
    "              run_manager: Optional[CallbackManagerForChainRun] = None,\n",
    "        ) -> Dict[str, str]:\n",
    "        \n",
    "        output = dict()\n",
    "        _run_manager = run_manager or CallbackManagerForChainRun.get_noop_manager()\n",
    "        color_mapping = get_color_mapping([str(i) for i in range(len(self.chains))])\n",
    "        for i, chain in enumerate(self.chains):\n",
    "            _output = chain.run(inputs, callbacks=_run_manager.get_child())\n",
    "            output[f'chain_{i}'] = _output\n",
    "            inputs[self.chained_input_key] = _output # set as input for next chain\n",
    "            _run_manager.on_text(\n",
    "                inputs, color=color_mapping[str(i)], end=\"\\n\", verbose=self.verbose\n",
    "            )\n",
    "            \n",
    "        output[self.output_key] = _output\n",
    "        return output\n",
    "            "
   ]
  },
  {
   "cell_type": "code",
   "execution_count": 225,
   "id": "53ab291c",
   "metadata": {},
   "outputs": [],
   "source": [
    "cchain = SequentialOutputChain(chains=[chain_func_req, chain_comp], chained_input_key='problem_statement', verbose=True)"
   ]
  },
  {
   "cell_type": "code",
   "execution_count": 226,
   "id": "de908ae6",
   "metadata": {},
   "outputs": [
    {
     "data": {
      "text/plain": [
       "(['problem_statement'], ['output', 'chain_0', 'chain_1'])"
      ]
     },
     "execution_count": 226,
     "metadata": {},
     "output_type": "execute_result"
    }
   ],
   "source": [
    "cchain.input_keys, cchain.output_keys"
   ]
  },
  {
   "cell_type": "code",
   "execution_count": 227,
   "id": "01693d41",
   "metadata": {},
   "outputs": [
    {
     "name": "stdout",
     "output_type": "stream",
     "text": [
      "\n",
      "\n",
      "\u001b[1m> Entering new SequentialOutputChain chain...\u001b[0m\n",
      "\n",
      "\n",
      "\u001b[1m> Entering new LLMChain chain...\u001b[0m\n",
      "Prompt after formatting:\n",
      "\u001b[32;1m\u001b[1;3mYou are an expert in distributed system. \n",
      "The scope of your task will be to identify functional requirements from a given system design problem statement.\n",
      "On response you should list down the functional requirements as you understand.\n",
      "\n",
      "## Example:\n",
      "Problem Statement : Design a Chat Application like WhatsApp, where an user can send or receive message, create a group with more than 2 people, gets notification when a new message is received.\n",
      "\n",
      "## Sample Output:\n",
      "1. Messaging functionality - allow users to send and receive messages through the chat application.\n",
      "2. Group creation functionality - enable users to create groups within the application, which they can join to communicate with other members.\n",
      "3. Notification functionality - notify users when someone sends them a new message, or when a new member joins their group.\n",
      "\n",
      "Design a photo sharing application like instagram, \n",
      "where users can post photoes or vides, follow other users, browse throught the photo, video posted by the following users, add comments on those posts.\n",
      "\n",
      "\u001b[0m\n"
     ]
    },
    {
     "name": "stderr",
     "output_type": "stream",
     "text": [
      "Retrying langchain.chat_models.openai.ChatOpenAI.completion_with_retry.<locals>._completion_with_retry in 1.0 seconds as it raised APIConnectionError: Error communicating with OpenAI: ('Connection aborted.', RemoteDisconnected('Remote end closed connection without response')).\n"
     ]
    },
    {
     "name": "stdout",
     "output_type": "stream",
     "text": [
      "\n",
      "\u001b[1m> Finished chain.\u001b[0m\n",
      "\u001b[36;1m\u001b[1;3m{'problem_statement': '1. Photo and video posting functionality - allow users to upload and share photos and videos on the application.\\n2. Following functionality - enable users to follow other users on the application to view their posts in their feed.\\n3. Browsing functionality - allow users to browse through posts made by the users they follow.\\n4. Commenting functionality - enable users to add comments on posts made by other users.'}\u001b[0m\n",
      "\n",
      "\n",
      "\u001b[1m> Entering new LLMChain chain...\u001b[0m\n",
      "Prompt after formatting:\n",
      "\u001b[32;1m\u001b[1;3m\n",
      "You are an assistant to design a distributed System. \n",
      "Given a list of functional requirements, you have to provide **high level Components** of the system under design.\n",
      "1. Each component should be either of the types - Storage, Service, Cache, Load Balancer. \n",
      "2. The Service components should be independent and mutually exclusive of responsibilities.\n",
      "3. The database component should be present and the requirements should be stated clearly.\n",
      "\n",
      "The output should be formatted as a JSON instance that conforms to the JSON schema below.\n",
      "\n",
      "As an example, for the schema {\"properties\": {\"foo\": {\"title\": \"Foo\", \"description\": \"a list of strings\", \"type\": \"array\", \"items\": {\"type\": \"string\"}}}, \"required\": [\"foo\"]}}\n",
      "the object {\"foo\": [\"bar\", \"baz\"]} is a well-formatted instance of the schema. The object {\"properties\": {\"foo\": [\"bar\", \"baz\"]}} is not well-formatted.\n",
      "\n",
      "Here is the output schema:\n",
      "```\n",
      "{\"properties\": {\"components\": {\"title\": \"Components\", \"description\": \"List of Components\", \"type\": \"array\", \"items\": {\"$ref\": \"#/definitions/Component\"}}}, \"required\": [\"components\"], \"definitions\": {\"Component\": {\"title\": \"Component\", \"type\": \"object\", \"properties\": {\"name\": {\"title\": \"Name\", \"description\": \"name of the component\", \"type\": \"string\"}, \"description\": {\"title\": \"Description\", \"description\": \"description of the component\", \"type\": \"string\"}, \"component_type\": {\"title\": \"Component Type\", \"description\": \"type of the component\", \"type\": \"string\"}}, \"required\": [\"name\", \"description\", \"component_type\"]}}}\n",
      "```\n",
      "\n",
      "Output based on the functional requirement as below : \n",
      "1. Photo and video posting functionality - allow users to upload and share photos and videos on the application.\n",
      "2. Following functionality - enable users to follow other users on the application to view their posts in their feed.\n",
      "3. Browsing functionality - allow users to browse through posts made by the users they follow.\n",
      "4. Commenting functionality - enable users to add comments on posts made by other users.\n",
      "\u001b[0m\n",
      "\n",
      "\u001b[1m> Finished chain.\u001b[0m\n",
      "\u001b[33;1m\u001b[1;3m{'problem_statement': '{\\n  \"components\": [\\n    {\\n      \"name\": \"Storage\",\\n      \"description\": \"Stores user data, posts, comments, and media files\",\\n      \"component_type\": \"Storage\"\\n    },\\n    {\\n      \"name\": \"User Service\",\\n      \"description\": \"Handles user authentication, registration, and profile management\",\\n      \"component_type\": \"Service\"\\n    },\\n    {\\n      \"name\": \"Post Service\",\\n      \"description\": \"Handles post creation, retrieval, and deletion\",\\n      \"component_type\": \"Service\"\\n    },\\n    {\\n      \"name\": \"Media Service\",\\n      \"description\": \"Handles media file upload, retrieval, and deletion\",\\n      \"component_type\": \"Service\"\\n    },\\n    {\\n      \"name\": \"Follow Service\",\\n      \"description\": \"Handles user follow and unfollow functionality\",\\n      \"component_type\": \"Service\"\\n    },\\n    {\\n      \"name\": \"Feed Service\",\\n      \"description\": \"Generates user feeds based on the users they follow\",\\n      \"component_type\": \"Service\"\\n    },\\n    {\\n      \"name\": \"Comment Service\",\\n      \"description\": \"Handles comment creation, retrieval, and deletion\",\\n      \"component_type\": \"Service\"\\n    },\\n    {\\n      \"name\": \"Cache\",\\n      \"description\": \"Caches frequently accessed data to improve performance\",\\n      \"component_type\": \"Cache\"\\n    },\\n    {\\n      \"name\": \"Load Balancer\",\\n      \"description\": \"Distributes incoming requests across multiple servers to improve scalability and availability\",\\n      \"component_type\": \"Load Balancer\"\\n    },\\n    {\\n      \"name\": \"Database\",\\n      \"description\": \"Stores all data for the system\",\\n      \"component_type\": \"Storage\"\\n    }\\n  ]\\n}'}\u001b[0m\n",
      "\n",
      "\u001b[1m> Finished chain.\u001b[0m\n"
     ]
    }
   ],
   "source": [
    "ccoutput = cchain(problem_statement, return_only_outputs=True)"
   ]
  },
  {
   "cell_type": "code",
   "execution_count": 228,
   "id": "f03799b3",
   "metadata": {},
   "outputs": [
    {
     "data": {
      "text/plain": [
       "dict_keys(['chain_0', 'chain_1', 'output'])"
      ]
     },
     "execution_count": 228,
     "metadata": {},
     "output_type": "execute_result"
    }
   ],
   "source": [
    "ccoutput.keys()"
   ]
  },
  {
   "cell_type": "code",
   "execution_count": 229,
   "id": "599dd3ad",
   "metadata": {},
   "outputs": [
    {
     "data": {
      "text/plain": [
       "'1. Photo and video posting functionality - allow users to upload and share photos and videos on the application.\\n2. Following functionality - enable users to follow other users on the application to view their posts in their feed.\\n3. Browsing functionality - allow users to browse through posts made by the users they follow.\\n4. Commenting functionality - enable users to add comments on posts made by other users.'"
      ]
     },
     "execution_count": 229,
     "metadata": {},
     "output_type": "execute_result"
    }
   ],
   "source": [
    "ccoutput['chain_0']"
   ]
  },
  {
   "cell_type": "code",
   "execution_count": 230,
   "id": "612910d8",
   "metadata": {},
   "outputs": [],
   "source": [
    "components = parser.parse(ccoutput['output'])"
   ]
  },
  {
   "cell_type": "code",
   "execution_count": 231,
   "id": "0ebe3793",
   "metadata": {},
   "outputs": [
    {
     "data": {
      "text/plain": [
       "[Component(name='Storage', description='Stores user data, posts, comments, and media files', component_type='Storage'),\n",
       " Component(name='User Service', description='Handles user authentication, registration, and profile management', component_type='Service'),\n",
       " Component(name='Post Service', description='Handles post creation, retrieval, and deletion', component_type='Service'),\n",
       " Component(name='Media Service', description='Handles media file upload, retrieval, and deletion', component_type='Service'),\n",
       " Component(name='Follow Service', description='Handles user follow and unfollow functionality', component_type='Service'),\n",
       " Component(name='Feed Service', description='Generates user feeds based on the users they follow', component_type='Service'),\n",
       " Component(name='Comment Service', description='Handles comment creation, retrieval, and deletion', component_type='Service'),\n",
       " Component(name='Cache', description='Caches frequently accessed data to improve performance', component_type='Cache'),\n",
       " Component(name='Load Balancer', description='Distributes incoming requests across multiple servers to improve scalability and availability', component_type='Load Balancer'),\n",
       " Component(name='Database', description='Stores all data for the system', component_type='Storage')]"
      ]
     },
     "execution_count": 231,
     "metadata": {},
     "output_type": "execute_result"
    }
   ],
   "source": [
    "components.components"
   ]
  },
  {
   "cell_type": "code",
   "execution_count": 272,
   "id": "2dcf583f",
   "metadata": {
    "scrolled": true
   },
   "outputs": [
    {
     "data": {
      "text/plain": [
       "\"name='Storage' description='Stores user data, posts, comments, and media files' component_type='Storage'\""
      ]
     },
     "execution_count": 272,
     "metadata": {},
     "output_type": "execute_result"
    }
   ],
   "source": [
    "str(components.components[0])"
   ]
  },
  {
   "cell_type": "code",
   "execution_count": null,
   "id": "efe418ba",
   "metadata": {},
   "outputs": [],
   "source": []
  }
 ],
 "metadata": {
  "kernelspec": {
   "display_name": "Python 3 (ipykernel)",
   "language": "python",
   "name": "python3"
  },
  "language_info": {
   "codemirror_mode": {
    "name": "ipython",
    "version": 3
   },
   "file_extension": ".py",
   "mimetype": "text/x-python",
   "name": "python",
   "nbconvert_exporter": "python",
   "pygments_lexer": "ipython3",
   "version": "3.11.3"
  }
 },
 "nbformat": 4,
 "nbformat_minor": 5
}
