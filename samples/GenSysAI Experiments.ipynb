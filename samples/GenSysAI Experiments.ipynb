{
 "cells": [
  {
   "cell_type": "code",
   "execution_count": 1,
   "id": "32c693d0",
   "metadata": {},
   "outputs": [],
   "source": [
    "import sys\n",
    "sys.path.append(\"..\")  # Add the parent directory to the sys.path list\n",
    "\n",
    "from gensysai.designer import SystemDesigner"
   ]
  },
  {
   "cell_type": "code",
   "execution_count": 3,
   "id": "d519fd98",
   "metadata": {},
   "outputs": [
    {
     "name": "stdout",
     "output_type": "stream",
     "text": [
      "Help on class SystemDesigner in module gensysai.designer:\n",
      "\n",
      "class SystemDesigner(builtins.object)\n",
      " |  SystemDesigner(llm: langchain.llms.base.BaseLLM, cloud_provider: str = 'Any', problem_analyzer: gensysai.analyzer.ProblemAnalyzer = None, storage_designer: gensysai.designer.StorageComponentDesigner = None, service_designer: gensysai.designer.ServiceComponentDesigner = None, misc_designer: gensysai.designer.GenericComponentDesigner = None, verbose: bool = False) -> None\n",
      " |  \n",
      " |  The SystemDesigner class handles the entire design of the system\n",
      " |  \n",
      " |  Methods defined here:\n",
      " |  \n",
      " |  __init__(self, llm: langchain.llms.base.BaseLLM, cloud_provider: str = 'Any', problem_analyzer: gensysai.analyzer.ProblemAnalyzer = None, storage_designer: gensysai.designer.StorageComponentDesigner = None, service_designer: gensysai.designer.ServiceComponentDesigner = None, misc_designer: gensysai.designer.GenericComponentDesigner = None, verbose: bool = False) -> None\n",
      " |      Initialize the SystemDesigner object.\n",
      " |      \n",
      " |      Args:\n",
      " |          llm (BaseLLM): The BaseLLM object. \n",
      " |      \n",
      " |          cloud_provider (str, optional): The cloud provider. Defaults to \"Any\". \n",
      " |      \n",
      " |          problem_analyzer (ProblemAnalyzer, optional): The ProblemAnalyzer object. Defaults to None. \n",
      " |      \n",
      " |          storage_designer (StorageComponentDesigner, optional): The StorageComponentDesigner object. Defaults to None. \n",
      " |      \n",
      " |          service_designer (ServiceComponentDesigner, optional): The ServiceComponentDesigner object. Defaults to None. \n",
      " |      \n",
      " |          misc_designer (GenericComponentDesigner, optional): The GenericComponentDesigner object. Defaults to None.\n",
      " |      \n",
      " |          verbose (bool, optional): Verbose mode flag. Defaults to False.\n",
      " |  \n",
      " |  design(self, problem_statement: str) -> str\n",
      " |      Design the system based on the provided problem statement.\n",
      " |      \n",
      " |      Args:\n",
      " |          problem_statement (str): The problem statement.\n",
      " |      \n",
      " |      Returns:\n",
      " |          str: The design document.\n",
      " |  \n",
      " |  dump_to_md_file(self, path: str)\n",
      " |      Dumps the Generated design to a markdown file\n",
      " |      \n",
      " |      Args:\n",
      " |          path (str): The pathstring of a markdown file, should end with `.md`\n",
      " |      \n",
      " |      Returns:\n",
      " |          None:\n",
      " |  \n",
      " |  generate_markdown(self)\n",
      " |      Generates a markdown file of the design\n",
      " |  \n",
      " |  ----------------------------------------------------------------------\n",
      " |  Data descriptors defined here:\n",
      " |  \n",
      " |  __dict__\n",
      " |      dictionary for instance variables (if defined)\n",
      " |  \n",
      " |  __weakref__\n",
      " |      list of weak references to the object (if defined)\n",
      "\n"
     ]
    }
   ],
   "source": [
    "help(SystemDesigner)"
   ]
  },
  {
   "cell_type": "code",
   "execution_count": null,
   "id": "d12fd8a2",
   "metadata": {},
   "outputs": [],
   "source": []
  }
 ],
 "metadata": {
  "kernelspec": {
   "display_name": "Python 3 (ipykernel)",
   "language": "python",
   "name": "python3"
  },
  "language_info": {
   "codemirror_mode": {
    "name": "ipython",
    "version": 3
   },
   "file_extension": ".py",
   "mimetype": "text/x-python",
   "name": "python",
   "nbconvert_exporter": "python",
   "pygments_lexer": "ipython3",
   "version": "3.11.3"
  }
 },
 "nbformat": 4,
 "nbformat_minor": 5
}
